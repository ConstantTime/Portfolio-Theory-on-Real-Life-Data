{
 "cells": [
  {
   "cell_type": "code",
   "execution_count": 1,
   "metadata": {},
   "outputs": [],
   "source": [
    "# -*- coding: utf-8 -*-\n",
    "\"\"\"\n",
    "Created on Wed May 13\n",
    "\n",
    "@author: Rakshit\n",
    "\"\"\"\n",
    "\n",
    "import os\n",
    "import pandas as pd\n",
    "from numpy.linalg import inv\n",
    "import numpy as np\n",
    "from os import listdir\n",
    "from os.path import isfile, join"
   ]
  },
  {
   "cell_type": "code",
   "execution_count": 2,
   "metadata": {},
   "outputs": [],
   "source": [
    "def getCompanyName(s) :\n",
    "    ans = \"\";\n",
    "    for i in range(0 , len(s)) :\n",
    "        if(s[i] == ' '):\n",
    "            break\n",
    "        ans = ans + s[i]\n",
    "    return ans        "
   ]
  },
  {
   "cell_type": "code",
   "execution_count": 3,
   "metadata": {},
   "outputs": [],
   "source": [
    "files = os.listdir('E:\\Twitter\\Portfolio-Theory-on-Real-Life-Data\\chetanp\\data')"
   ]
  },
  {
   "cell_type": "code",
   "execution_count": 4,
   "metadata": {},
   "outputs": [],
   "source": [
    "n = len(files)\n",
    "cur_file = 1\n",
    "company_names = {}"
   ]
  },
  {
   "cell_type": "code",
   "execution_count": 5,
   "metadata": {},
   "outputs": [],
   "source": [
    "n = len(files)\n",
    "cur_file = 1\n",
    "company_names = {}"
   ]
  },
  {
   "cell_type": "code",
   "execution_count": 6,
   "metadata": {},
   "outputs": [],
   "source": [
    "from shutil import copyfile\n",
    "for i in range(0 , n) :\n",
    "    name = 'main_'\n",
    "    new_path = r'E:\\Twitter\\Portfolio-Theory-on-Real-Life-Data\\chetanp\\updated_names\\main_'\n",
    "    new_path = new_path + str(cur_file)\n",
    "    name = name + str(cur_file)\n",
    "    cur_file = cur_file + 1\n",
    "    new_path = new_path + '.csv'\n",
    "    name = name + '.csv'\n",
    "    file_path = r'E:\\Twitter\\Portfolio-Theory-on-Real-Life-Data\\chetanp\\data\\\\'\n",
    "    file_path += files[i]\n",
    "    os.rename(file_path , new_path)\n",
    "    company_names[name] = getCompanyName(files[i])\n",
    "    files[i] = name"
   ]
  },
  {
   "cell_type": "code",
   "execution_count": 7,
   "metadata": {},
   "outputs": [
    {
     "data": {
      "text/plain": [
       "{'main_1.csv': 'AAPL',\n",
       " 'main_2.csv': 'ADBE',\n",
       " 'main_3.csv': 'AMZN',\n",
       " 'main_4.csv': 'AYX',\n",
       " 'main_5.csv': 'BLMN',\n",
       " 'main_6.csv': 'CRM',\n",
       " 'main_7.csv': 'DRI',\n",
       " 'main_8.csv': 'EQIX',\n",
       " 'main_9.csv': 'ETSY',\n",
       " 'main_10.csv': 'FB',\n",
       " 'main_11.csv': 'FFIV',\n",
       " 'main_12.csv': 'FIVN',\n",
       " 'main_13.csv': 'GOOGL',\n",
       " 'main_14.csv': 'GWRE',\n",
       " 'main_15.csv': 'LULU',\n",
       " 'main_16.csv': 'MCD',\n",
       " 'main_17.csv': 'MDB',\n",
       " 'main_18.csv': 'MSFT',\n",
       " 'main_19.csv': 'NKE',\n",
       " 'main_20.csv': 'NOW',\n",
       " 'main_21.csv': 'PTC',\n",
       " 'main_22.csv': 'ROKU',\n",
       " 'main_23.csv': 'SAP',\n",
       " 'main_24.csv': 'SNAP',\n",
       " 'main_25.csv': 'TEAM',\n",
       " 'main_26.csv': 'TGT',\n",
       " 'main_27.csv': 'VEEV',\n",
       " 'main_28.csv': 'WDAY',\n",
       " 'main_29.csv': 'WMT',\n",
       " 'main_30.csv': 'ZUO'}"
      ]
     },
     "execution_count": 7,
     "metadata": {},
     "output_type": "execute_result"
    }
   ],
   "source": [
    "company_names"
   ]
  },
  {
   "cell_type": "code",
   "execution_count": 26,
   "metadata": {},
   "outputs": [
    {
     "name": "stdout",
     "output_type": "stream",
     "text": [
      "Max number of rows in a dataset are :  524\n"
     ]
    }
   ],
   "source": [
    "p_size = 30;\n",
    "Open_list = []\n",
    "min_len = 10000;\n",
    "for i in range(0 , p_size) :\n",
    "    file_path = r'E:\\Twitter\\Portfolio-Theory-on-Real-Life-Data\\chetanp\\updated_names\\\\'\n",
    "    file_path += files[i]\n",
    "    frame = pd.read_csv(file_path)\n",
    "    min_len = min(min_len , frame.shape[0])\n",
    "    \n",
    "print('Max number of rows in a dataset are : ', min_len)\n",
    "\n",
    "# Path Simulation\n",
    "for i in range(0 , p_size) :\n",
    "    file_path = r'E:\\Twitter\\Portfolio-Theory-on-Real-Life-Data\\chetanp\\updated_names\\\\'\n",
    "    file_path += files[i]\n",
    "    frame = pd.read_csv(file_path)\n",
    "    frame.columns = frame.columns.str.strip()\n",
    "    if(type(frame['Price'][0]) == str) :\n",
    "        frame['Price'] = frame['Price'].str.replace(',' , '').astype(float)\n",
    "    end = len(frame)\n",
    "    Open_l = (np.array(frame['Price'][1:end]) - np.array(frame['Price'][0:end - 1])) / np.array(frame['Price'][0:end - 1])\n",
    "    if(len(Open_l) != min_len) :     \\\n",
    "        Open_l = Open_l[end - min_len :end]\n",
    "    Open_list.append(Open_l)"
   ]
  },
  {
   "cell_type": "code",
   "execution_count": 27,
   "metadata": {},
   "outputs": [],
   "source": [
    "C = np.cov(Open_list)\n",
    "m = []\n",
    "for i in range(0 , p_size) :\n",
    "    m.append(np.mean(Open_list[i]))\n",
    "\n",
    "u = np.empty(p_size)\n",
    "u.fill(1)\n",
    "u = np.matrix(u)\n",
    "\n",
    "# for min variance portfolio\n",
    "x = np.matmul(np.matmul(u , inv(C)) , np.transpose(u))\n",
    "w_minvar = np.matmul(u , inv(C)) / x.item((0 , 0))\n",
    "# Min Variance Weights thus are \n",
    "\n",
    "weights = {}\n",
    "for i in range(0 , p_size) :\n",
    "    weights[company_names[files[i]]] = w_minvar.item((0 , i))"
   ]
  },
  {
   "cell_type": "code",
   "execution_count": 31,
   "metadata": {},
   "outputs": [],
   "source": [
    "C = np.cov(Open_list)\n",
    "m = []\n",
    "for i in range(0 , p_size) :\n",
    "    m.append(np.mean(Open_list[i]))\n",
    "\n",
    "u = np.empty(p_size)\n",
    "u.fill(1)\n",
    "u = np.matrix(u)\n",
    "\n",
    "# for min variance portfolio\n",
    "x = np.matmul(np.matmul(u , inv(C)) , np.transpose(u))\n",
    "w_minvar = np.matmul(u , inv(C)) / x.item((0 , 0))\n",
    "# Min Variance Weights thus are \n",
    "\n",
    "weights = {}\n",
    "for i in range(0 , p_size) :\n",
    "    weights[company_names[files[i]]] = w_minvar.item((0 , i))"
   ]
  },
  {
   "cell_type": "code",
   "execution_count": 32,
   "metadata": {},
   "outputs": [],
   "source": [
    "for i in range(0 , p_size) :\n",
    "    weights[company_names[files[i]]] = 100 * weights[company_names[files[i]]]"
   ]
  },
  {
   "cell_type": "code",
   "execution_count": 38,
   "metadata": {},
   "outputs": [
    {
     "name": "stdout",
     "output_type": "stream",
     "text": [
      "AAPL       1.84\n",
      "ADBE      -3.43\n",
      "AMZN      -1.58\n",
      "AYX        3.13\n",
      "BLMN       3.09\n",
      "CRM        0.05\n",
      "DRI        5.1\n",
      "EQIX       6.61\n",
      "ETSY       3.19\n",
      "FB         0.04\n",
      "FFIV       3.63\n",
      "FIVN      -0.05\n",
      "GOOGL      3.08\n",
      "GWRE       1.71\n",
      "LULU       1.55\n",
      "MCD        18.06\n",
      "MDB        2.0\n",
      "MSFT       2.43\n",
      "NKE        2.81\n",
      "NOW       -1.72\n",
      "PTC        3.1\n",
      "ROKU       0.4\n",
      "SAP        19.5\n",
      "SNAP       1.31\n",
      "TEAM       4.57\n",
      "TGT        3.8\n",
      "VEEV       3.22\n",
      "WDAY      -2.44\n",
      "WMT        12.13\n",
      "ZUO        2.86\n"
     ]
    }
   ],
   "source": [
    "w = []\n",
    "for i in range(0 , p_size) :\n",
    "    string = company_names[files[i]]\n",
    "    num = round(weights[company_names[files[i]]] , 2)\n",
    "    if(num < 0) :\n",
    "        while(len(string) != 9) :\n",
    "            string = string + \" \"\n",
    "    else :\n",
    "        while(len(string)!= 10) :\n",
    "            string = string + \" \";\n",
    "    print(string , num)\n",
    "    w.append(num)"
   ]
  },
  {
   "cell_type": "code",
   "execution_count": 40,
   "metadata": {},
   "outputs": [
    {
     "ename": "IndexError",
     "evalue": "list index out of range",
     "output_type": "error",
     "traceback": [
      "\u001b[1;31m---------------------------------------------------------------------------\u001b[0m",
      "\u001b[1;31mIndexError\u001b[0m                                Traceback (most recent call last)",
      "\u001b[1;32m<ipython-input-40-efde4f39f07a>\u001b[0m in \u001b[0;36m<module>\u001b[1;34m\u001b[0m\n\u001b[0;32m      1\u001b[0m \u001b[0ml\u001b[0m \u001b[1;33m=\u001b[0m \u001b[1;33m[\u001b[0m\u001b[1;36m1\u001b[0m \u001b[1;33m,\u001b[0m \u001b[1;36m2\u001b[0m \u001b[1;33m,\u001b[0m \u001b[1;36m3\u001b[0m \u001b[1;33m,\u001b[0m \u001b[1;36m4\u001b[0m\u001b[1;33m]\u001b[0m\u001b[1;33m\u001b[0m\u001b[1;33m\u001b[0m\u001b[0m\n\u001b[1;32m----> 2\u001b[1;33m \u001b[0mprint\u001b[0m\u001b[1;33m(\u001b[0m\u001b[0ml\u001b[0m\u001b[1;33m[\u001b[0m\u001b[0mend\u001b[0m \u001b[1;33m-\u001b[0m \u001b[1;36m1\u001b[0m\u001b[1;33m]\u001b[0m\u001b[1;33m)\u001b[0m\u001b[1;33m\u001b[0m\u001b[1;33m\u001b[0m\u001b[0m\n\u001b[0m",
      "\u001b[1;31mIndexError\u001b[0m: list index out of range"
     ]
    }
   ],
   "source": [
    "returns = 0.0;\n",
    "for i in range(0 , p_size) :\n",
    "    returns = returns + sum(Open_l[i])"
   ]
  },
  {
   "cell_type": "code",
   "execution_count": null,
   "metadata": {},
   "outputs": [],
   "source": []
  }
 ],
 "metadata": {
  "kernelspec": {
   "display_name": "Python 3",
   "language": "python",
   "name": "python3"
  },
  "language_info": {
   "codemirror_mode": {
    "name": "ipython",
    "version": 3
   },
   "file_extension": ".py",
   "mimetype": "text/x-python",
   "name": "python",
   "nbconvert_exporter": "python",
   "pygments_lexer": "ipython3",
   "version": "3.7.3"
  }
 },
 "nbformat": 4,
 "nbformat_minor": 4
}
